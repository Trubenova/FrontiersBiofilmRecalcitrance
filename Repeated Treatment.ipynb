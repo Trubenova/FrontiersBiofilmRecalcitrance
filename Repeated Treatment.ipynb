{
 "cells": [
  {
   "cell_type": "code",
   "execution_count": null,
   "metadata": {},
   "outputs": [],
   "source": [
    "def repeated_treatment_experiment(name= 'repeated_treatment_', concentration_gradient = [0], init_pla=0, init_bio=1000000, biofilm_benefit=0, biofilm_cost=0):\n",
    "    start = time.time()\n",
    "    print ('starting')\n",
    "    \n",
    "    ####### GENERAL PROPERTIES OF THE POPULATION ########\n",
    "    loci=4\n",
    "    mutation_rate=0.0000010\n",
    "    cost_vector=[0.1,0.1,0.1,0.1]   #loc_costs = 0 * c_c * np.random.rand(k) + c_c\n",
    "    benefit_vector=[2,2,2,2] \n",
    "    if len(cost_vector)>1 and len(cost_vector)<loci:\n",
    "        print ('cost vector length does not match the number of loci')\n",
    "    if len(benefit_vector)>1 and len(benefit_vector)<loci:\n",
    "        print ('benefit vector length does not match the number of loci')\n",
    "\n",
    "    psi_max_s=0.0231 \n",
    "    psi_min=-0.0833\n",
    "    gamma=0.00007\n",
    "    release_rate=0#0.1\n",
    "    adhesion_rate=0#0.1##0.00000001\n",
    "\n",
    "    MIC = 1.0\n",
    "    \n",
    "    ######### PROPERTIES OF THE EXPERIMENT, INCLUDING THE DRUG PARAMETERS #######\n",
    "    #### non of this matters for the red and green experiement?\n",
    "    kappa=1.5\n",
    "    cycle_length = 24 * 60  # length of a cycle in minutes\n",
    "    init_conc = 2 * MIC  # intitial antibiotic concentration\n",
    "    car_cap=10**9\n",
    "    \n",
    "    degradation_rate=-0.0006\n",
    "    cycle_number=len(concentration_gradient)\n",
    "    \n",
    "    \n",
    "    ########## SPECIFICS OF THIS EXPERIMENT #####################################\n",
    "    ############ Starting population initialization  ###############\n",
    "\n",
    "    living_style=0\n",
    "    init_pop=np.zeros(2**loci)\n",
    "    init_pop[0]=init_pla  #\n",
    "    my_pla_population=bio.Bacterial_population(init_pop,loci=loci,psi_max_s=psi_max_s, psi_min=psi_min, gamma=gamma, MIC = MIC, cost_vector=cost_vector,benefit_vector=benefit_vector, mutation_rate=mutation_rate, living_style=living_style, biofilm_benefit=biofilm_benefit, biofilm_cost=biofilm_cost, release_rate=release_rate, adhesion_rate=adhesion_rate)\n",
    "    print ('z_mic plankton:', my_pla_population.z_mic)\n",
    "    \n",
    "    living_style=1\n",
    "    init_pop=np.zeros(2**loci)\n",
    "    init_pop[0]=init_bio\n",
    "    my_bio_population=bio.Bacterial_population(init_pop,loci=loci,psi_max_s=psi_max_s, psi_min=psi_min, gamma=gamma, MIC = MIC, cost_vector=cost_vector,benefit_vector=benefit_vector, mutation_rate=mutation_rate, living_style=living_style, biofilm_benefit=biofilm_benefit, biofilm_cost=biofilm_cost, release_rate=release_rate, adhesion_rate=adhesion_rate)\n",
    "    print ('z_mic biofilm:', my_bio_population.z_mic)\n",
    "\n",
    "    my_treatment=bio.Treatment(concentration_gradient, cycle_length=cycle_length , cycle_number=cycle_number, car_cap=car_cap,kappa=kappa, degradation_rate=degradation_rate)\n",
    "\n",
    "    #Run this \n",
    "    my_treatment.run_stochastic_simulation(my_pla_population, my_bio_population)\n",
    "    my_treatment.plot_results() \n",
    "    \n",
    "    #plt.semilogy(my_treatment.pla_population_record)\n",
    "    #plt.title('plankton')\n",
    "    #plt.show()\n",
    "    plt.semilogy(my_treatment.bio_population_record, ':')\n",
    "    plt.title('biofilm')\n",
    "    plt.legend(['pla g', 'pla r', 'bio g', 'bio r'])\n",
    "    plt.show()\n",
    "    \n",
    "    #my_treatment2.run_deterministic_simulation(my_pla_population2, my_bio_population2)\n",
    "    #my_treatment2.plot_results() \n",
    "    #np.save(name,complete_dynamics)\n",
    "    \n",
    "    \n",
    "    \n",
    "    \n",
    "    end = time.time()\n",
    "    print ('finished in ', end - start)\n",
    "    my_treatment.save_output(name)\n",
    "    return (my_treatment.pla_population_record,my_treatment.pla_population_record, my_treatment.time, my_treatment.concentration_record)"
   ]
  },
  {
   "cell_type": "markdown",
   "metadata": {},
   "source": [
    "## Repeated experiment for C=2"
   ]
  },
  {
   "cell_type": "code",
   "execution_count": null,
   "metadata": {},
   "outputs": [],
   "source": [
    "imp.reload(bio)\n",
    "biofilm_benefit=0 \n",
    "biofilm_cost=0\n",
    "concentration_gradient=[2,2,2,2,2,2,2]\n",
    "name='00repeated_t_C2_GenOnly'\n",
    "for i in range (100):\n",
    "    print ('running simulation no:',i)\n",
    "    [plankton_p, biofilm_p, time_r, conc_r]=repeated_treatment_experiment(name= name+str(i), concentration_gradient=concentration_gradient, biofilm_benefit=biofilm_benefit, biofilm_cost=biofilm_cost)\n",
    "    np.savetxt(name+str(i)+'_time.txt', time_r)\n",
    "    np.savetxt(name+str(i)+'_conc.txt', conc_r)"
   ]
  },
  {
   "cell_type": "code",
   "execution_count": null,
   "metadata": {},
   "outputs": [],
   "source": [
    "imp.reload(bio)\n",
    "biofilm_benefit=10 \n",
    "biofilm_cost=0\n",
    "concentration_gradient=[2,2,2,2,2,2,2]\n",
    "name='00repeated_t_C2_GenEPS'\n",
    "for i in range (100):\n",
    "    print ('running simulation no:',i)\n",
    "    [plankton_p, biofilm_p, time_r, conc_r]=repeated_treatment_experiment(name= name+str(i), concentration_gradient=concentration_gradient, biofilm_benefit=biofilm_benefit, biofilm_cost=biofilm_cost)\n",
    "    np.savetxt(name+str(i)+'_time.txt', time_r)\n",
    "    np.savetxt(name+str(i)+'_conc.txt', conc_r)"
   ]
  },
  {
   "cell_type": "code",
   "execution_count": null,
   "metadata": {},
   "outputs": [],
   "source": [
    "imp.reload(bio)\n",
    "biofilm_benefit=0 \n",
    "biofilm_cost=0.9\n",
    "concentration_gradient=[2,2,2,2,2,2,2]\n",
    "name='00repeated_t_C2_GenPhysio'\n",
    "for i in range (100):\n",
    "    print ('running simulation no:',i)\n",
    "    [plankton_p, biofilm_p, time_r, conc_r]=repeated_treatment_experiment(name= name+str(i), concentration_gradient=concentration_gradient, biofilm_benefit=biofilm_benefit, biofilm_cost=biofilm_cost)\n",
    "    np.savetxt(name+str(i)+'_time.txt', time_r)\n",
    "    np.savetxt(name+str(i)+'_conc.txt', conc_r)"
   ]
  },
  {
   "cell_type": "code",
   "execution_count": null,
   "metadata": {},
   "outputs": [],
   "source": [
    "imp.reload(bio)\n",
    "biofilm_benefit=10 \n",
    "biofilm_cost=0.9\n",
    "concentration_gradient=[2,2,2,2,2,2,2]\n",
    "name='00repeated_t_C2_GenEPSPhysio'\n",
    "for i in range (100):\n",
    "    print ('running simulation no:',i)\n",
    "    [plankton_p, biofilm_p, time_r, conc_r]=repeated_treatment_experiment(name= name+str(i), concentration_gradient=concentration_gradient, biofilm_benefit=biofilm_benefit, biofilm_cost=biofilm_cost)\n",
    "    np.savetxt(name+str(i)+'_time.txt', time_r)\n",
    "    np.savetxt(name+str(i)+'_conc.txt', conc_r)"
   ]
  },
  {
   "cell_type": "markdown",
   "metadata": {},
   "source": [
    "## Same repeated experiment but with c10"
   ]
  },
  {
   "cell_type": "code",
   "execution_count": null,
   "metadata": {},
   "outputs": [],
   "source": [
    "imp.reload(bio)\n",
    "biofilm_benefit=0 \n",
    "biofilm_cost=0\n",
    "concentration_gradient=[5,5,5,5,5,5,5]\n",
    "name='00repeated_t_C5_GenOnly'\n",
    "for i in range (100):\n",
    "    print ('running simulation no:',i)\n",
    "    [plankton_p, biofilm_p, time_r, conc_r]=repeated_treatment_experiment(name= name+str(i), concentration_gradient=concentration_gradient, biofilm_benefit=biofilm_benefit, biofilm_cost=biofilm_cost)\n",
    "    np.savetxt(name+str(i)+'_time.txt', time_r)\n",
    "    np.savetxt(name+str(i)+'_conc.txt', conc_r)"
   ]
  },
  {
   "cell_type": "code",
   "execution_count": null,
   "metadata": {},
   "outputs": [],
   "source": [
    "imp.reload(bio)\n",
    "biofilm_benefit=0 \n",
    "biofilm_cost=0.9\n",
    "\n",
    "name='00repeated_t_C5_GenPhysio'\n",
    "for i in range (100):\n",
    "    print ('running simulation no:',i)\n",
    "    [plankton_p, biofilm_p, time_r, conc_r]=repeated_treatment_experiment(name= name+str(i), concentration_gradient=concentration_gradient, biofilm_benefit=biofilm_benefit, biofilm_cost=biofilm_cost)\n",
    "    np.savetxt(name+str(i)+'_time.txt', time_r)\n",
    "    np.savetxt(name+str(i)+'_conc.txt', conc_r)"
   ]
  },
  {
   "cell_type": "code",
   "execution_count": null,
   "metadata": {},
   "outputs": [],
   "source": [
    "imp.reload(bio)\n",
    "biofilm_benefit=10 \n",
    "biofilm_cost=0\n",
    "name='repeated_t_C5_GenEPS10'\n",
    "for i in range (100):\n",
    "    print ('running simulation no:',i)\n",
    "    [plankton_p, biofilm_p, time_r, conc_r]=repeated_treatment_experiment(name= name+str(i), concentration_gradient=concentration_gradient, biofilm_benefit=biofilm_benefit, biofilm_cost=biofilm_cost)\n",
    "    np.savetxt(name+str(i)+'_time.txt', time_r)\n",
    "    np.savetxt(name+str(i)+'_conc.txt', conc_r)"
   ]
  },
  {
   "cell_type": "code",
   "execution_count": null,
   "metadata": {},
   "outputs": [],
   "source": [
    "imp.reload(bio)\n",
    "biofilm_benefit=10 \n",
    "biofilm_cost=0.9\n",
    "name='repeated_t_C5_GenEPS10Physio'\n",
    "for i in range (100):\n",
    "    print ('running simulation no:',i)\n",
    "    [plankton_p, biofilm_p, time_r, conc_r]=repeated_treatment_experiment(name= name+str(i), concentration_gradient=concentration_gradient, biofilm_benefit=biofilm_benefit, biofilm_cost=biofilm_cost)\n",
    "    np.savetxt(name+str(i)+'_time.txt', time_r)\n",
    "    np.savetxt(name+str(i)+'_conc.txt', conc_r)"
   ]
  },
  {
   "cell_type": "code",
   "execution_count": null,
   "metadata": {},
   "outputs": [],
   "source": []
  },
  {
   "cell_type": "markdown",
   "metadata": {},
   "source": [
    "## Same repeated experiment but with c10"
   ]
  },
  {
   "cell_type": "code",
   "execution_count": null,
   "metadata": {},
   "outputs": [],
   "source": [
    "imp.reload(bio)\n",
    "biofilm_benefit=0 \n",
    "biofilm_cost=0\n",
    "concentration_gradient=[10,10,10,10,10,10,10]\n",
    "name='repeated_treatment_C10_GenOnly'\n",
    "for i in range (100):\n",
    "    print ('running simulation no:',i)\n",
    "    [plankton_p, biofilm_p, time_r, conc_r]=repeated_treatment_experiment(name= name+str(i), concentration_gradient=concentration_gradient, biofilm_benefit=biofilm_benefit, biofilm_cost=biofilm_cost)\n",
    "    np.savetxt(name+str(i)+'_time.txt', time_r)\n",
    "    np.savetxt(name+str(i)+'_conc.txt', conc_r)"
   ]
  },
  {
   "cell_type": "code",
   "execution_count": null,
   "metadata": {},
   "outputs": [],
   "source": [
    "imp.reload(bio)\n",
    "biofilm_benefit=10 \n",
    "biofilm_cost=0\n",
    "name='repeated_treatment_C10_GenEPS10'\n",
    "for i in range (100):\n",
    "    print ('running simulation no:',i)\n",
    "    [plankton_p, biofilm_p, time_r, conc_r]=repeated_treatment_experiment(name= name+str(i), concentration_gradient=concentration_gradient, biofilm_benefit=biofilm_benefit, biofilm_cost=biofilm_cost)\n",
    "    np.savetxt(name+str(i)+'_time.txt', time_r)\n",
    "    np.savetxt(name+str(i)+'_conc.txt', conc_r)"
   ]
  },
  {
   "cell_type": "code",
   "execution_count": null,
   "metadata": {},
   "outputs": [],
   "source": [
    "imp.reload(bio)\n",
    "biofilm_benefit=0 \n",
    "biofilm_cost=0.9\n",
    "name='repeated_treatment_C10_GenPhysio'\n",
    "for i in range (100):\n",
    "    print ('running simulation no:',i)\n",
    "    [plankton_p, biofilm_p, time_r, conc_r]=repeated_treatment_experiment(name= name+str(i), concentration_gradient=concentration_gradient, biofilm_benefit=biofilm_benefit, biofilm_cost=biofilm_cost)\n",
    "    np.savetxt(name+str(i)+'_time.txt', time_r)\n",
    "    np.savetxt(name+str(i)+'_conc.txt', conc_r)"
   ]
  },
  {
   "cell_type": "code",
   "execution_count": null,
   "metadata": {},
   "outputs": [],
   "source": [
    "imp.reload(bio)\n",
    "biofilm_benefit=10 \n",
    "biofilm_cost=0.9\n",
    "name='repeated_treatment_C10_GenEPS10Physio'\n",
    "for i in range (100):\n",
    "    print ('running simulation no:',i)\n",
    "    [plankton_p, biofilm_p, time_r, conc_r]=repeated_treatment_experiment(name= name+str(i), concentration_gradient=concentration_gradient, biofilm_benefit=biofilm_benefit, biofilm_cost=biofilm_cost)\n",
    "    np.savetxt(name+str(i)+'_time.txt', time_r)\n",
    "    np.savetxt(name+str(i)+'_conc.txt', conc_r)"
   ]
  },
  {
   "cell_type": "markdown",
   "metadata": {},
   "source": [
    "## Same repeated experiment with C = 15¶"
   ]
  },
  {
   "cell_type": "code",
   "execution_count": null,
   "metadata": {},
   "outputs": [],
   "source": [
    "imp.reload(bio)\n",
    "concentration_gradient=[15,15,15,15,15,15,15]\n",
    "\n",
    "biofilm_benefit=0 \n",
    "biofilm_cost=0\n",
    "name='00repeated_t_C15_GenOnly'\n",
    "for i in range (100):\n",
    "    print ('running simulation no:',i)\n",
    "    [plankton_p, biofilm_p, time_r, conc_r]=repeated_treatment_experiment(name= name+str(i), concentration_gradient=concentration_gradient, biofilm_benefit=biofilm_benefit, biofilm_cost=biofilm_cost)\n",
    "    np.savetxt(name+str(i)+'_time.txt', time_r)\n",
    "    np.savetxt(name+str(i)+'_conc.txt', conc_r)"
   ]
  },
  {
   "cell_type": "code",
   "execution_count": null,
   "metadata": {},
   "outputs": [],
   "source": [
    "biofilm_benefit=10 \n",
    "biofilm_cost=0\n",
    "name='00repeated_t_C15_GenEPS10'\n",
    "for i in range (100):\n",
    "    print ('running simulation no:',i)\n",
    "    [plankton_p, biofilm_p, time_r, conc_r]=repeated_treatment_experiment(name= name+str(i), concentration_gradient=concentration_gradient, biofilm_benefit=biofilm_benefit, biofilm_cost=biofilm_cost)\n",
    "    np.savetxt(name+str(i)+'_time.txt', time_r)\n",
    "    np.savetxt(name+str(i)+'_conc.txt', conc_r)"
   ]
  },
  {
   "cell_type": "code",
   "execution_count": null,
   "metadata": {},
   "outputs": [],
   "source": [
    "biofilm_benefit=0 \n",
    "biofilm_cost=0.9\n",
    "name='00repeated_t_C15_GenPhysio'\n",
    "for i in range (100):\n",
    "    print ('running simulation no:',i)\n",
    "    [plankton_p, biofilm_p, time_r, conc_r]=repeated_treatment_experiment(name= name+str(i), concentration_gradient=concentration_gradient, biofilm_benefit=biofilm_benefit, biofilm_cost=biofilm_cost)\n",
    "    np.savetxt(name+str(i)+'_time.txt', time_r)\n",
    "    np.savetxt(name+str(i)+'_conc.txt', conc_r)"
   ]
  },
  {
   "cell_type": "code",
   "execution_count": null,
   "metadata": {},
   "outputs": [],
   "source": [
    "biofilm_benefit=10 \n",
    "biofilm_cost=0.9\n",
    "name='00repeated_t_C15_GenEPS10Physio'\n",
    "for i in range (100):\n",
    "    print ('running simulation no:',i)\n",
    "    [plankton_p, biofilm_p, time_r, conc_r]=repeated_treatment_experiment(name= name+str(i), concentration_gradient=concentration_gradient, biofilm_benefit=biofilm_benefit, biofilm_cost=biofilm_cost)\n",
    "    np.savetxt(name+str(i)+'_time.txt', time_r)\n",
    "    np.savetxt(name+str(i)+'_conc.txt', conc_r)"
   ]
  },
  {
   "cell_type": "markdown",
   "metadata": {},
   "source": [
    "## Same repeated experiment with C20\n"
   ]
  },
  {
   "cell_type": "code",
   "execution_count": null,
   "metadata": {},
   "outputs": [],
   "source": [
    "imp.reload(bio)\n",
    "concentration_gradient=[20,20,20,20,20,20,20]\n",
    "\n",
    "biofilm_benefit=0 \n",
    "biofilm_cost=0\n",
    "name='00repeated_t_C20_GenOnly'\n",
    "for i in range (100):\n",
    "    print ('running simulation no:',i)\n",
    "    [plankton_p, biofilm_p, time_r, conc_r]=repeated_treatment_experiment(name= name+str(i), concentration_gradient=concentration_gradient, biofilm_benefit=biofilm_benefit, biofilm_cost=biofilm_cost)\n",
    "    np.savetxt(name+str(i)+'_time.txt', time_r)\n",
    "    np.savetxt(name+str(i)+'_conc.txt', conc_r)"
   ]
  },
  {
   "cell_type": "code",
   "execution_count": null,
   "metadata": {},
   "outputs": [],
   "source": [
    "biofilm_benefit=10 \n",
    "biofilm_cost=0\n",
    "name='00repeated_t_C20_GenEPS10'\n",
    "for i in range (100):\n",
    "    print ('running simulation no:',i)\n",
    "    [plankton_p, biofilm_p, time_r, conc_r]=repeated_treatment_experiment(name= name+str(i), concentration_gradient=concentration_gradient, biofilm_benefit=biofilm_benefit, biofilm_cost=biofilm_cost)\n",
    "    np.savetxt(name+str(i)+'_time.txt', time_r)\n",
    "    np.savetxt(name+str(i)+'_conc.txt', conc_r)"
   ]
  },
  {
   "cell_type": "code",
   "execution_count": null,
   "metadata": {},
   "outputs": [],
   "source": [
    "biofilm_benefit=0 \n",
    "biofilm_cost=0.9\n",
    "name='00repeated_t_C20_GenPhysio'\n",
    "for i in range (100):\n",
    "    print ('running simulation no:',i)\n",
    "    [plankton_p, biofilm_p, time_r, conc_r]=repeated_treatment_experiment(name= name+str(i), concentration_gradient=concentration_gradient, biofilm_benefit=biofilm_benefit, biofilm_cost=biofilm_cost)\n",
    "    np.savetxt(name+str(i)+'_time.txt', time_r)\n",
    "    np.savetxt(name+str(i)+'_conc.txt', conc_r)"
   ]
  },
  {
   "cell_type": "code",
   "execution_count": null,
   "metadata": {},
   "outputs": [],
   "source": [
    "biofilm_benefit=10 \n",
    "biofilm_cost=0.9\n",
    "name='00repeated_t_C20_GenEPS10Physio'\n",
    "for i in range (100):\n",
    "    print ('running simulation no:',i)\n",
    "    [plankton_p, biofilm_p, time_r, conc_r]=repeated_treatment_experiment(name= name+str(i), concentration_gradient=concentration_gradient, biofilm_benefit=biofilm_benefit, biofilm_cost=biofilm_cost)\n",
    "    np.savetxt(name+str(i)+'_time.txt', time_r)\n",
    "    np.savetxt(name+str(i)+'_conc.txt', conc_r)"
   ]
  },
  {
   "cell_type": "code",
   "execution_count": null,
   "metadata": {},
   "outputs": [],
   "source": []
  },
  {
   "cell_type": "code",
   "execution_count": null,
   "metadata": {},
   "outputs": [],
   "source": []
  },
  {
   "cell_type": "code",
   "execution_count": null,
   "metadata": {},
   "outputs": [],
   "source": []
  },
  {
   "cell_type": "code",
   "execution_count": null,
   "metadata": {},
   "outputs": [],
   "source": []
  }
 ],
 "metadata": {
  "kernelspec": {
   "display_name": "Python 3",
   "language": "python",
   "name": "python3"
  },
  "language_info": {
   "codemirror_mode": {
    "name": "ipython",
    "version": 3
   },
   "file_extension": ".py",
   "mimetype": "text/x-python",
   "name": "python",
   "nbconvert_exporter": "python",
   "pygments_lexer": "ipython3",
   "version": "3.8.3"
  }
 },
 "nbformat": 4,
 "nbformat_minor": 4
}
